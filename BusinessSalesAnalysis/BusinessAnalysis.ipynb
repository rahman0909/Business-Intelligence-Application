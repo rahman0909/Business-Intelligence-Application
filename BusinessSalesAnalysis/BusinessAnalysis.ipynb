{
 "cells": [
  {
   "cell_type": "code",
   "execution_count": 1,
   "metadata": {},
   "outputs": [
    {
     "name": "stderr",
     "output_type": "stream",
     "text": [
      "Matplotlib is building the font cache; this may take a moment.\n"
     ]
    }
   ],
   "source": [
    "#loading require python packages\n",
    "import pandas as pd\n",
    "import pickle\n",
    "import socket\n",
    "import json\n",
    "from tkinter import messagebox\n",
    "import numpy as np\n",
    "from IPython.display import display\n",
    "\n",
    "import matplotlib.pyplot as plt\n",
    "import numpy as np\n",
    "import seaborn as sns\n",
    "from sklearn.preprocessing import LabelEncoder\n",
    "from sklearn.preprocessing import MinMaxScaler\n",
    "from sklearn.metrics import mean_squared_error\n",
    "from sklearn.model_selection import train_test_split \n",
    "from sklearn.ensemble import RandomForestRegressor\n",
    "import pickle\n",
    "import os\n",
    "from sklearn.tree import DecisionTreeRegressor\n",
    "from sklearn.metrics import r2_score\n",
    "from sklearn.ensemble import RandomForestRegressor\n",
    "import plotly.express as px\n"
   ]
  },
  {
   "cell_type": "code",
   "execution_count": null,
   "metadata": {},
   "outputs": [],
   "source": [
    "#using this code we are connecting to cloud server\n",
    "client = socket.socket(socket.AF_INET, socket.SOCK_STREAM) \n",
    "client.connect(('localhost', 2222))\n",
    "features = []\n",
    "features.append(\"download\")\n",
    "features.append(\"Sales.csv\")\n",
    "features = pickle.dumps(features)\n",
    "client.send(features) #now sending request to cloud to download sales data\n",
    "data = client.recv(100000)#now receive data from cloud\n",
    "data = pickle.loads(data)\n",
    "data = data[0]\n",
    "fout = open(\"Sales.csv\", 'wb')\n",
    "fout.write(data)\n",
    "fout.close()\n",
    "dataset = pd.read_csv(\"Sales.csv\") #now display received dataset\n",
    "display(dataset)"
   ]
  },
  {
   "cell_type": "code",
   "execution_count": null,
   "metadata": {},
   "outputs": [],
   "source": [
    "#processing dataset to replace NAN values with 0\n",
    "dataset.fillna(0, inplace = True)\n",
    "dataset['YOY_Sales'] = dataset['YOY_Sales'].str.replace('%','').astype(float)\n",
    "dataset['YOY_Units'] = dataset['YOY_Units'].str.replace('%','').astype(float)\n",
    "dataset.drop(['Rank'], axis = 1,inplace=True)\n",
    "dataset.drop(['Content'], axis = 1,inplace=True)\n",
    "#here we are converting various menu items into categorries\n",
    "dataset['category'] = dataset['Segment_Category'].apply(lambda x:x.replace('Quick Service & Burger','Burger').replace(\n",
    "                                                      'Italian/Pizza','Pizza').replace('Quick Service & Pizza','Pizza').replace(\n",
    "'Bakery Cafe ','Cafe').replace('Coffee Cafe','Cafe')).replace('Quick Service & Chicken','Chicken').replace('Casual Dining & Pizza','Pizza').replace(\n",
    "'Quick Service & Cafe','Cafe').replace('Fast Casual & Pizza','Pizza').replace('Fast Casual & Bakery Cafe','Cafe').replace('Quick Service & Frozen Desserts','Dessert').replace(\n",
    "'Quick Service & Family Casual','Family').replace('Casual Dining & Asian','Asian').replace('Asian/Noodle','Asian').replace('Casual Dining & Seafood','Seafood').replace(\n",
    "'Bakery Cafe','Cafe').replace('Frozen Desserts','Dessert').replace('Family Dining & Family Style','Family').replace('Fast Casual & Sandwich','Sandwich').replace(\n",
    "'Family Casual','Family').replace('Fast Casual & Chicken','Chicken').replace('Fast Casual & Burger','Burger').replace('Casual Dining & Steak','Steak').replace(\n",
    "'Casual Dining & Sports Bar','Sports Bar').replace('Quick Service & Mexican','Mexican').replace('Quick Service & Mexican','Mexican').replace(\n",
    "'Quick Service & Seafood','Seafood').replace('Quick Service & Sandwich','Sandwich').replace('Seafodd','Seafood').replace('Fine Dining & Steak','Steak').replace(\n",
    "'Quick Service & Bakery Cafe','Cafe').replace('Fast Casual & Asian/Noodle','Asia').replace('Quick Service & Snack','Snack').replace(\n",
    "'Fast Casual & Mexican','Mexican').replace('Quick Service & Beverage','Drinks').replace('Asian','Asia').replace('Sports Bar','Sports Bar').replace(\n",
    "'Casual Dining & Varied Menu','Varied Menu').replace('Steak','Meat').replace('BBQ','Meat').replace('Family Style','Family')\n",
    "display(dataset)"
   ]
  },
  {
   "cell_type": "code",
   "execution_count": null,
   "metadata": {},
   "outputs": [],
   "source": [
    "#here we are plotting graph of Pizza sales in different restaurants so we can know which restaurant is popular for pizza \n",
    "#selling and has more sale compare to other restaurants and here we plot graph for 10 top pizza sale restaurant \n",
    "pizza = dataset.query(\"category == 'Pizza'\")[:10]\n",
    "fig = px.bar(pizza,\n",
    "             x='Restaurant',\n",
    "             y='Sales',\n",
    "             color='Sales',\n",
    "             color_continuous_scale='Viridis',\n",
    "             title='Pizza Sales Top Restaurants')\n",
    "fig.show()"
   ]
  },
  {
   "cell_type": "code",
   "execution_count": null,
   "metadata": {},
   "outputs": [],
   "source": [
    "#here we are plotting graph of Burger sales in different restaurants so we can know which restaurant is popular for Burger\n",
    "#selling and has more sale compare to other restaurants and here we plot graph for 10 top Burger sale restaurant\n",
    "burger = dataset.query(\"category == 'Burger'\")[:10]\n",
    "fig = px.bar(burger,\n",
    "             x='Restaurant',\n",
    "             y='Sales',\n",
    "             color='Sales',\n",
    "             color_continuous_scale='Viridis',\n",
    "             title='Burger Sales Top Restaurants')\n",
    "fig.show()"
   ]
  },
  {
   "cell_type": "code",
   "execution_count": null,
   "metadata": {},
   "outputs": [],
   "source": [
    "#frequency of different restaurant found in dataset\n",
    "print(\"Frequency Table for Different Categories\")\n",
    "display(dataset['category'].value_counts())\n",
    "names, count = np.unique(dataset['category'], return_counts=True)\n",
    "plt.plot(names, count)\n",
    "plt.xticks(rotation=90)\n",
    "plt.rcParams[\"figure.figsize\"]= [12,6]\n",
    "plt.title(\"Frequency of Different Categories found in Dataset\")\n",
    "plt.show()"
   ]
  },
  {
   "cell_type": "code",
   "execution_count": null,
   "metadata": {},
   "outputs": [],
   "source": [
    "#plotting graph for top 10 restaurant seller in all categories\n",
    "dataset.groupby('Restaurant').agg({'Sales': 'max'})['Sales'].nlargest(10).plot(kind='bar')\n",
    "plt.title(\"Top 10 Restaurants with highest sale\")\n",
    "plt.rcParams[\"figure.figsize\"]= [12,6]\n",
    "plt.show()"
   ]
  },
  {
   "cell_type": "code",
   "execution_count": null,
   "metadata": {},
   "outputs": [],
   "source": [
    "'''\n",
    "all machine learning algorithms accept only numeric values but this dataset contains mixed of numeric and non-numeric data \n",
    "so by applying label encoding algorithm we are converting all non-numeric values to numeric values. Label encoder will\n",
    "assign integer values to all unique non-numeric data\n",
    "'''\n",
    "columns = ['Restaurant', 'category', 'Headquarters', 'Segment_Category']\n",
    "label_encoder = []\n",
    "for column in columns:\n",
    "    le = LabelEncoder()\n",
    "    dataset[column] = pd.Series(le.fit_transform(dataset[column].astype(str)))\n",
    "    label_encoder.append(le)\n",
    "display(dataset)"
   ]
  },
  {
   "cell_type": "code",
   "execution_count": null,
   "metadata": {},
   "outputs": [],
   "source": [
    "#extracting Y label data\n",
    "Y = dataset.values[:,1:2]\n",
    "dataset.drop(['Sales'], axis = 1,inplace=True)\n",
    "#extracting training X data\n",
    "sc = MinMaxScaler(feature_range = (0, 1))\n",
    "X = dataset.values\n",
    "X = sc.fit_transform(X)\n",
    "Y = sc.fit_transform(Y)\n",
    "X_train, X_test, y_train, y_test = train_test_split(X, Y, test_size=0.1)\n",
    "print()\n",
    "print(\"Dataset Size : \"+str(X.shape[0]))\n",
    "print(\"Train & Test Dataset Split Details\")\n",
    "print(\"Training Size : \"+str(X_train.shape[0]))\n",
    "print(\"Testing Size : \"+str(X_test.shape[0]))\n",
    "print()"
   ]
  },
  {
   "cell_type": "code",
   "execution_count": null,
   "metadata": {},
   "outputs": [],
   "source": [
    "#defining Decision Tree regression object\n",
    "dt_regression = DecisionTreeRegressor()\n",
    "#training Decision Tree regression with X and Y data\n",
    "dt_regression.fit(X_train, y_train)\n",
    "#performing prediction on test data\n",
    "predict = dt_regression.predict(X_test)\n",
    "#calculating MSE error\n",
    "dt_mse = mean_squared_error(y_test,predict)\n",
    "dt_mse = format(dt_mse, '.7f')\n",
    "dt_rmse = mean_squared_error(y_test,predict)\n",
    "coefficient_determination = r2_score(y_test,predict)\n",
    "rsquare = 1 - ((1 - coefficient_determination) * (len(X_test) - 1) / (len(X_test) - 1))\n",
    "predict = predict.reshape(predict.shape[0],1)\n",
    "predict = sc.inverse_transform(predict)\n",
    "predict = predict.ravel()\n",
    "labels = sc.inverse_transform(y_test)\n",
    "labels = labels.ravel()\n",
    "for i in range(len(y_test)):\n",
    "    print(\"Test Data Sales: \"+str(labels[i])+\" Decision Tree Regression Predicted Sales : \"+str(predict[i]))\n",
    "print(\"\\nDecision Tree Regression Mean Square Error: \"+str(dt_mse))\n",
    "#plotting comparison graph between original values and predicted values\n",
    "plt.plot(labels, color = 'red', label = 'Original Test Sales')\n",
    "plt.plot(predict, color = 'green', label = 'Decision Tree Regression Predicted Sales')\n",
    "plt.title('Decision Tree Regression Sales Forecasting Graph')\n",
    "plt.xlabel('Test Data')\n",
    "plt.ylabel('Forecasting Sales')\n",
    "plt.legend()\n",
    "plt.show()"
   ]
  },
  {
   "cell_type": "code",
   "execution_count": null,
   "metadata": {},
   "outputs": [],
   "source": [
    "#defining random forest regression object\n",
    "rf_regression = RandomForestRegressor()\n",
    "#training random forest regression with X and Y data\n",
    "rf_regression.fit(X_train, y_train.ravel())\n",
    "#performing prediction on test data\n",
    "predict = rf_regression.predict(X_test)\n",
    "#calculating MSE error\n",
    "rf_mse = mean_squared_error(y_test,predict)\n",
    "rf_mse = format(rf_mse, '.7f')\n",
    "rf_rmse = mean_squared_error(y_test,predict)\n",
    "coefficient_determination = r2_score(y_test,predict)\n",
    "rsquare = 1 - ((1 - coefficient_determination) * (len(X_test) - 1) / (len(X_test) - 1))\n",
    "predict = predict.reshape(predict.shape[0],1)\n",
    "predict = sc.inverse_transform(predict)\n",
    "predict = predict.ravel()\n",
    "labels = sc.inverse_transform(y_test)\n",
    "labels = labels.ravel()\n",
    "for i in range(len(y_test)):\n",
    "    print(\"Test Data Sales: \"+str(labels[i])+\" Random Forest Regression Predicted Sales : \"+str(predict[i]))\n",
    "print(\"\\nRandom Forest Regression Mean Square Error: \"+str(rf_mse))\n",
    "#plotting comparison graph between original values and predicted values\n",
    "plt.plot(labels, color = 'red', label = 'Original CTC')\n",
    "plt.plot(predict, color = 'green', label = 'Random Forest Regression Predicted Sales')\n",
    "plt.title('Random Forest Regression Sales Forecasting Graph')\n",
    "plt.xlabel('Test Data')\n",
    "plt.ylabel('Forecasting Sales')\n",
    "plt.legend()\n",
    "plt.show()"
   ]
  },
  {
   "cell_type": "code",
   "execution_count": null,
   "metadata": {},
   "outputs": [],
   "source": [
    "height = [float(dt_mse), float(rf_mse)]\n",
    "bars = ('Decision Tree', 'Random Forest')\n",
    "y_pos = np.arange(len(bars))\n",
    "plt.bar(y_pos, height)\n",
    "plt.xticks(y_pos, bars)\n",
    "plt.title(\"MSE Comparison Graph\")\n",
    "plt.rcParams[\"figure.figsize\"]= [12,4]\n",
    "plt.show()"
   ]
  },
  {
   "cell_type": "code",
   "execution_count": null,
   "metadata": {},
   "outputs": [],
   "source": []
  }
 ],
 "metadata": {
  "kernelspec": {
   "display_name": "Python 3 (ipykernel)",
   "language": "python",
   "name": "python3"
  },
  "language_info": {
   "codemirror_mode": {
    "name": "ipython",
    "version": 3
   },
   "file_extension": ".py",
   "mimetype": "text/x-python",
   "name": "python",
   "nbconvert_exporter": "python",
   "pygments_lexer": "ipython3",
   "version": "3.10.9"
  }
 },
 "nbformat": 4,
 "nbformat_minor": 4
}
